{
  "cells": [
    {
      "cell_type": "markdown",
      "metadata": {
        "id": "PnZuO9DvXXzs"
      },
      "source": []
    },
    {
      "cell_type": "code",
      "execution_count": null,
      "metadata": {
        "colab": {
          "base_uri": "https://localhost:8080/"
        },
        "id": "qtbo3YkI7Vk6",
        "outputId": "ec8c3151-f05b-4eda-ca4c-b10cc2ab7adb"
      },
      "outputs": [
        {
          "name": "stdout",
          "output_type": "stream",
          "text": [
            "Reading package lists... Done\n",
            "Building dependency tree... Done\n",
            "Reading state information... Done\n",
            "git is already the newest version (1:2.34.1-1ubuntu1.9).\n",
            "0 upgraded, 0 newly installed, 0 to remove and 8 not upgraded.\n"
          ]
        }
      ],
      "source": [
        "!apt-get install -y git"
      ]
    },
    {
      "cell_type": "code",
      "execution_count": null,
      "metadata": {
        "colab": {
          "base_uri": "https://localhost:8080/"
        },
        "id": "LeF6sxU3RRl9",
        "outputId": "a0916427-2ca5-4f23-c125-56dbb90da19a"
      },
      "outputs": [
        {
          "name": "stdout",
          "output_type": "stream",
          "text": [
            "Cloning into 'WePrompt'...\n",
            "remote: Enumerating objects: 343, done.\u001b[K\n",
            "remote: Counting objects: 100% (143/143), done.\u001b[K\n",
            "remote: Compressing objects: 100% (78/78), done.\u001b[K\n",
            "remote: Total 343 (delta 63), reused 127 (delta 49), pack-reused 200\u001b[K\n",
            "Receiving objects: 100% (343/343), 98.85 MiB | 21.52 MiB/s, done.\n",
            "Resolving deltas: 100% (138/138), done.\n"
          ]
        }
      ],
      "source": [
        "git clone https://github.com/khhaliil/ Avatario.git"
      ]
    },
    {
      "cell_type": "markdown",
      "metadata": {
        "id": "lfBuaJw1bh27"
      },
      "source": []
    },
    {
      "cell_type": "code",
      "execution_count": null,
      "metadata": {
        "colab": {
          "base_uri": "https://localhost:8080/"
        },
        "id": "qIK_KGPyRWSp",
        "outputId": "307722b2-e957-4721-a223-a1861eeffdb2"
      },
      "outputs": [
        {
          "name": "stdout",
          "output_type": "stream",
          "text": [
            "total 8\n",
            " 524432 drwxr-xr-x 1 root root 4096 Jul 18 13:43 sample_data\n",
            "2883606 drwxr-xr-x 4 root root 4096 Jul 20 10:06 WePrompt\n"
          ]
        }
      ],
      "source": [
        "!ls -li"
      ]
    },
    {
      "cell_type": "code",
      "execution_count": null,
      "metadata": {
        "colab": {
          "base_uri": "https://localhost:8080/"
        },
        "id": "37HOj1OFRwpK",
        "outputId": "95ae4b14-a69c-49a5-e3d3-78420afffc22"
      },
      "outputs": [
        {
          "name": "stdout",
          "output_type": "stream",
          "text": [
            "/content/WePrompt\n"
          ]
        }
      ],
      "source": [
        "cd WePrompt"
      ]
    },
    {
      "cell_type": "code",
      "execution_count": null,
      "metadata": {
        "colab": {
          "base_uri": "https://localhost:8080/"
        },
        "id": "9vuk2wtvSH2g",
        "outputId": "d1b83a34-580a-4556-c311-51fc2e96dc20"
      },
      "outputs": [
        {
          "name": "stdout",
          "output_type": "stream",
          "text": [
            "/content/WePrompt/RavenApi\n"
          ]
        }
      ],
      "source": [
        "cd RavenApi"
      ]
    },
    {
      "cell_type": "code",
      "execution_count": null,
      "metadata": {
        "colab": {
          "base_uri": "https://localhost:8080/"
        },
        "id": "s0KOCFTXSJlN",
        "outputId": "91a03f97-6c1e-4476-c95f-6ae4ed000350"
      },
      "outputs": [
        {
          "name": "stdout",
          "output_type": "stream",
          "text": [
            "20B_tokenizer.json  \u001b[0m\u001b[01;34minstructions\u001b[0m/   RavenCloud.py\n",
            "convert_model.py    RavenApi2.0.py  RavenWorldCloud.py\n"
          ]
        }
      ],
      "source": [
        "ls"
      ]
    },
    {
      "cell_type": "code",
      "execution_count": null,
      "metadata": {
        "colab": {
          "base_uri": "https://localhost:8080/"
        },
        "id": "3tkIRAv6SK3L",
        "outputId": "f4205303-53b2-46d7-bc5b-542f40ee42c4"
      },
      "outputs": [
        {
          "name": "stdout",
          "output_type": "stream",
          "text": [
            "--2023-07-20 10:06:34--  https://huggingface.co/BlinkDL/rwkv-4-raven/resolve/main/RWKV-4-Raven-14B-v12-Eng98%25-Other2%25-20230523-ctx8192.pth\n",
            "Resolving huggingface.co (huggingface.co)... 108.138.94.97, 108.138.94.45, 108.138.94.27, ...\n",
            "Connecting to huggingface.co (huggingface.co)|108.138.94.97|:443... connected.\n",
            "HTTP request sent, awaiting response... 302 Found\n",
            "Location: https://cdn-lfs.huggingface.co/repos/41/55/4155c7aaff64e0f4b926df1a8fff201f8ee3653c39ba67b31e4973ae97828633/1193b5a9ceab572e4dbb9ed1d798eab7bf4793d18904d08bd4bf183579338ae7?response-content-disposition=attachment%3B+filename*%3DUTF-8%27%27RWKV-4-Raven-14B-v12-Eng98%2525-Other2%2525-20230523-ctx8192.pth%3B+filename%3D%22RWKV-4-Raven-14B-v12-Eng98%25-Other2%25-20230523-ctx8192.pth%22%3B&Expires=1690106794&Policy=eyJTdGF0ZW1lbnQiOlt7IkNvbmRpdGlvbiI6eyJEYXRlTGVzc1RoYW4iOnsiQVdTOkVwb2NoVGltZSI6MTY5MDEwNjc5NH19LCJSZXNvdXJjZSI6Imh0dHBzOi8vY2RuLWxmcy5odWdnaW5nZmFjZS5jby9yZXBvcy80MS81NS80MTU1YzdhYWZmNjRlMGY0YjkyNmRmMWE4ZmZmMjAxZjhlZTM2NTNjMzliYTY3YjMxZTQ5NzNhZTk3ODI4NjMzLzExOTNiNWE5Y2VhYjU3MmU0ZGJiOWVkMWQ3OThlYWI3YmY0NzkzZDE4OTA0ZDA4YmQ0YmYxODM1NzkzMzhhZTc%7EcmVzcG9uc2UtY29udGVudC1kaXNwb3NpdGlvbj0qIn1dfQ__&Signature=ttSiUsv6DWi73INTFB-f4K2y85InwU6W5XVN-aL4GlijNDuuvoPVxn0qusVhh%7ERR886TeFRuMHB%7ENqj%7EgsC3cs6y9fgObVRfGFGVi0wfYU14A-n5Wm6lZ5oGugPJAqh1bR4%7EdHVSvO2JKrEw8VaErlVVzZfRgQb-aYQBwwcdezXgjzdTQtUgkh5XyIYd2IbLrNPYYiDlh6SB2IdZWzzE4Jj4%7EBzXIidri6MXdjaFW3cYqXvM-XBgj9S0zbs3RXN-pUVzSJ1PjOGuaVshMyr2NL9lnfXuGWNmav%7Ec0ny5Krv1qqCHpbD9e36CLIJXf9EcBpE1HwSEv25O-RYLCcnqUw__&Key-Pair-Id=KVTP0A1DKRTAX [following]\n",
            "--2023-07-20 10:06:34--  https://cdn-lfs.huggingface.co/repos/41/55/4155c7aaff64e0f4b926df1a8fff201f8ee3653c39ba67b31e4973ae97828633/1193b5a9ceab572e4dbb9ed1d798eab7bf4793d18904d08bd4bf183579338ae7?response-content-disposition=attachment%3B+filename*%3DUTF-8%27%27RWKV-4-Raven-14B-v12-Eng98%2525-Other2%2525-20230523-ctx8192.pth%3B+filename%3D%22RWKV-4-Raven-14B-v12-Eng98%25-Other2%25-20230523-ctx8192.pth%22%3B&Expires=1690106794&Policy=eyJTdGF0ZW1lbnQiOlt7IkNvbmRpdGlvbiI6eyJEYXRlTGVzc1RoYW4iOnsiQVdTOkVwb2NoVGltZSI6MTY5MDEwNjc5NH19LCJSZXNvdXJjZSI6Imh0dHBzOi8vY2RuLWxmcy5odWdnaW5nZmFjZS5jby9yZXBvcy80MS81NS80MTU1YzdhYWZmNjRlMGY0YjkyNmRmMWE4ZmZmMjAxZjhlZTM2NTNjMzliYTY3YjMxZTQ5NzNhZTk3ODI4NjMzLzExOTNiNWE5Y2VhYjU3MmU0ZGJiOWVkMWQ3OThlYWI3YmY0NzkzZDE4OTA0ZDA4YmQ0YmYxODM1NzkzMzhhZTc%7EcmVzcG9uc2UtY29udGVudC1kaXNwb3NpdGlvbj0qIn1dfQ__&Signature=ttSiUsv6DWi73INTFB-f4K2y85InwU6W5XVN-aL4GlijNDuuvoPVxn0qusVhh%7ERR886TeFRuMHB%7ENqj%7EgsC3cs6y9fgObVRfGFGVi0wfYU14A-n5Wm6lZ5oGugPJAqh1bR4%7EdHVSvO2JKrEw8VaErlVVzZfRgQb-aYQBwwcdezXgjzdTQtUgkh5XyIYd2IbLrNPYYiDlh6SB2IdZWzzE4Jj4%7EBzXIidri6MXdjaFW3cYqXvM-XBgj9S0zbs3RXN-pUVzSJ1PjOGuaVshMyr2NL9lnfXuGWNmav%7Ec0ny5Krv1qqCHpbD9e36CLIJXf9EcBpE1HwSEv25O-RYLCcnqUw__&Key-Pair-Id=KVTP0A1DKRTAX\n",
            "Resolving cdn-lfs.huggingface.co (cdn-lfs.huggingface.co)... 18.65.229.83, 18.65.229.73, 18.65.229.16, ...\n",
            "Connecting to cdn-lfs.huggingface.co (cdn-lfs.huggingface.co)|18.65.229.83|:443... connected.\n",
            "HTTP request sent, awaiting response... 200 OK\n",
            "Length: 28297309490 (26G) [binary/octet-stream]\n",
            "Saving to: ‘RWKV-4-Raven-14B-v12-Eng98%-Other2%-20230523-ctx8192.pth’\n",
            "\n",
            "RWKV-4-Raven-14B-v1 100%[===================>]  26.35G  49.0MB/s    in 10m 2s  \n",
            "\n",
            "2023-07-20 10:16:36 (44.8 MB/s) - ‘RWKV-4-Raven-14B-v12-Eng98%-Other2%-20230523-ctx8192.pth’ saved [28297309490/28297309490]\n",
            "\n"
          ]
        }
      ],
      "source": [
        "!wget https://huggingface.co/BlinkDL/rwkv-4-raven/resolve/main/RWKV-4-Raven-14B-v12-Eng98%25-Other2%25-20230523-ctx8192.pth"
      ]
    },
    {
      "cell_type": "code",
      "execution_count": null,
      "metadata": {
        "colab": {
          "background_save": true,
          "base_uri": "https://localhost:8080/"
        },
        "id": "n8WRDVKfSnhP",
        "outputId": "5a16bc56-315a-415b-d56d-2d2524d80653"
      },
      "outputs": [
        {
          "name": "stdout",
          "output_type": "stream",
          "text": [
            "Reading package lists... Done\n",
            "Building dependency tree... Done\n",
            "Reading state information... Done\n",
            "Suggested packages:\n",
            "  hunspell\n",
            "The following NEW packages will be installed:\n",
            "  nano\n",
            "0 upgraded, 1 newly installed, 0 to remove and 8 not upgraded.\n",
            "Need to get 280 kB of archives.\n",
            "After this operation, 881 kB of additional disk space will be used.\n",
            "Get:1 http://archive.ubuntu.com/ubuntu jammy/main amd64 nano amd64 6.2-1 [280 kB]\n",
            "Fetched 280 kB in 0s (2,601 kB/s)\n",
            "debconf: unable to initialize frontend: Dialog\n",
            "debconf: (No usable dialog-like program is installed, so the dialog based frontend cannot be used. at /usr/share/perl5/Debconf/FrontEnd/Dialog.pm line 78, <> line 1.)\n",
            "debconf: falling back to frontend: Readline\n",
            "debconf: unable to initialize frontend: Readline\n",
            "debconf: (This frontend requires a controlling tty.)\n",
            "debconf: falling back to frontend: Teletype\n",
            "dpkg-preconfigure: unable to re-open stdin: \n",
            "Selecting previously unselected package nano.\n",
            "(Reading database ... 129824 files and directories currently installed.)\n",
            "Preparing to unpack .../archives/nano_6.2-1_amd64.deb ...\n",
            "Unpacking nano (6.2-1) ...\n",
            "Setting up nano (6.2-1) ...\n",
            "update-alternatives: using /bin/nano to provide /usr/bin/editor (editor) in auto mode\n",
            "update-alternatives: using /bin/nano to provide /usr/bin/pico (pico) in auto mode\n",
            "Processing triggers for man-db (2.10.2-1) ...\n",
            "Collecting rwkv\n",
            "  Downloading rwkv-0.8.0-py3-none-any.whl (395 kB)\n",
            "\u001b[2K     \u001b[90m━━━━━━━━━━━━━━━━━━━━━━━━━━━━━━━━━━━━━━━\u001b[0m \u001b[32m395.4/395.4 kB\u001b[0m \u001b[31m5.3 MB/s\u001b[0m eta \u001b[36m0:00:00\u001b[0m\n",
            "\u001b[?25hCollecting tokenizers>=0.13.2 (from rwkv)\n",
            "  Downloading tokenizers-0.13.3-cp310-cp310-manylinux_2_17_x86_64.manylinux2014_x86_64.whl (7.8 MB)\n",
            "\u001b[2K     \u001b[90m━━━━━━━━━━━━━━━━━━━━━━━━━━━━━━━━━━━━━━━━\u001b[0m \u001b[32m7.8/7.8 MB\u001b[0m \u001b[31m30.7 MB/s\u001b[0m eta \u001b[36m0:00:00\u001b[0m\n",
            "\u001b[?25hInstalling collected packages: tokenizers, rwkv\n",
            "Successfully installed rwkv-0.8.0 tokenizers-0.13.3\n",
            "Traceback (most recent call last):\n",
            "  File \"/usr/local/lib/python3.10/dist-packages/pip/_internal/cli/base_command.py\", line 169, in exc_logging_wrapper\n",
            "    status = run_func(*args)\n",
            "  File \"/usr/local/lib/python3.10/dist-packages/pip/_internal/cli/req_command.py\", line 242, in wrapper\n",
            "    return func(self, options, args)\n",
            "  File \"/usr/local/lib/python3.10/dist-packages/pip/_internal/commands/install.py\", line 377, in run\n",
            "    requirement_set = resolver.resolve(\n",
            "  File \"/usr/local/lib/python3.10/dist-packages/pip/_internal/resolution/resolvelib/resolver.py\", line 92, in resolve\n",
            "    result = self._result = resolver.resolve(\n",
            "  File \"/usr/local/lib/python3.10/dist-packages/pip/_vendor/resolvelib/resolvers.py\", line 546, in resolve\n",
            "    state = resolution.resolve(requirements, max_rounds=max_rounds)\n",
            "  File \"/usr/local/lib/python3.10/dist-packages/pip/_vendor/resolvelib/resolvers.py\", line 397, in resolve\n",
            "    self._add_to_criteria(self.state.criteria, r, parent=None)\n",
            "  File \"/usr/local/lib/python3.10/dist-packages/pip/_vendor/resolvelib/resolvers.py\", line 173, in _add_to_criteria\n",
            "    if not criterion.candidates:\n",
            "  File \"/usr/local/lib/python3.10/dist-packages/pip/_vendor/resolvelib/structs.py\", line 156, in __bool__\n",
            "    return bool(self._sequence)\n",
            "  File \"/usr/local/lib/python3.10/dist-packages/pip/_internal/resolution/resolvelib/found_candidates.py\", line 155, in __bool__\n",
            "    return any(self)\n",
            "  File \"/usr/local/lib/python3.10/dist-packages/pip/_internal/resolution/resolvelib/found_candidates.py\", line 143, in <genexpr>\n",
            "    return (c for c in iterator if id(c) not in self._incompatible_ids)\n",
            "  File \"/usr/local/lib/python3.10/dist-packages/pip/_internal/resolution/resolvelib/found_candidates.py\", line 44, in _iter_built\n",
            "    for version, func in infos:\n",
            "  File \"/usr/local/lib/python3.10/dist-packages/pip/_internal/resolution/resolvelib/factory.py\", line 279, in iter_index_candidate_infos\n",
            "    result = self._finder.find_best_candidate(\n",
            "  File \"/usr/local/lib/python3.10/dist-packages/pip/_internal/index/package_finder.py\", line 890, in find_best_candidate\n",
            "    candidates = self.find_all_candidates(project_name)\n",
            "  File \"/usr/local/lib/python3.10/dist-packages/pip/_internal/index/package_finder.py\", line 831, in find_all_candidates\n",
            "    page_candidates = list(page_candidates_it)\n",
            "  File \"/usr/local/lib/python3.10/dist-packages/pip/_internal/index/sources.py\", line 134, in page_candidates\n",
            "    yield from self._candidates_from_page(self._link)\n",
            "  File \"/usr/local/lib/python3.10/dist-packages/pip/_internal/index/package_finder.py\", line 798, in process_project_url\n",
            "    package_links = self.evaluate_links(\n",
            "  File \"/usr/local/lib/python3.10/dist-packages/pip/_internal/index/package_finder.py\", line 778, in evaluate_links\n",
            "    candidate = self.get_install_candidate(link_evaluator, link)\n",
            "  File \"/usr/local/lib/python3.10/dist-packages/pip/_internal/index/package_finder.py\", line 759, in get_install_candidate\n",
            "    result, detail = link_evaluator.evaluate_link(link)\n",
            "  File \"/usr/local/lib/python3.10/dist-packages/pip/_internal/index/package_finder.py\", line 202, in evaluate_link\n",
            "    if not wheel.supported(supported_tags):\n",
            "  File \"/usr/local/lib/python3.10/dist-packages/pip/_internal/models/wheel.py\", line 92, in supported\n",
            "    return not self.file_tags.isdisjoint(tags)\n",
            "  File \"/usr/local/lib/python3.10/dist-packages/pip/_vendor/packaging/tags.py\", line 86, in __hash__\n",
            "    def __hash__(self) -> int:\n",
            "KeyboardInterrupt\n",
            "\n",
            "During handling of the above exception, another exception occurred:\n",
            "\n",
            "Traceback (most recent call last):\n",
            "  File \"/usr/local/bin/pip3\", line 8, in <module>\n",
            "    sys.exit(main())\n",
            "  File \"/usr/local/lib/python3.10/dist-packages/pip/_internal/cli/main.py\", line 79, in main\n",
            "    return command.main(cmd_args)\n",
            "  File \"/usr/local/lib/python3.10/dist-packages/pip/_internal/cli/base_command.py\", line 101, in main\n",
            "    return self._main(args)\n",
            "  File \"/usr/local/lib/python3.10/dist-packages/pip/_internal/cli/base_command.py\", line 223, in _main\n",
            "    return run(options, args)\n",
            "  File \"/usr/local/lib/python3.10/dist-packages/pip/_internal/cli/base_command.py\", line 206, in exc_logging_wrapper\n",
            "    logger.critical(\"Operation cancelled by user\")\n",
            "  File \"/usr/lib/python3.10/logging/__init__.py\", line 1514, in critical\n",
            "    def critical(self, msg, *args, **kwargs):\n",
            "KeyboardInterrupt\n",
            "^C\n"
          ]
        }
      ],
      "source": [
        "!sudo apt-get install nano\n",
        "!pip install rwkv\n",
        "!pip install ninja"
      ]
    },
    {
      "cell_type": "code",
      "execution_count": null,
      "metadata": {
        "colab": {
          "base_uri": "https://localhost:8080/"
        },
        "id": "HnmT255xSirp",
        "outputId": "9e47a06a-a290-497b-851f-f34a0530c362"
      },
      "outputs": [
        {
          "name": "stdout",
          "output_type": "stream",
          "text": [
            "20B_tokenizer.json  RavenCloud.py\n",
            "convert_model.py    RavenWorldCloud.py\n",
            "\u001b[0m\u001b[01;34minstructions\u001b[0m/       RWKV-4-Raven-14B-v12-Eng98%-Other2%-20230523-ctx8192.pth\n",
            "RavenApi2.0.py\n"
          ]
        }
      ],
      "source": [
        "ls"
      ]
    },
    {
      "cell_type": "code",
      "execution_count": null,
      "metadata": {
        "id": "A3WKTzRcZbEv"
      },
      "outputs": [],
      "source": [
        "#!python convert_model.py --in 'RWKV-4-Raven-7B-v12-Eng98%-Other2%-20230521-ctx8192' --out 'RWKV-4-Raven-7B-v12-Eng98%-Other2%-20230521-ctx8192-fp16' --strategy 'cuda fp16'"
      ]
    },
    {
      "cell_type": "code",
      "execution_count": null,
      "metadata": {
        "id": "95oN-TLTrxes"
      },
      "outputs": [],
      "source": [
        "#for cuda acceleration on\n",
        "!export PATH=/usr/local/cuda/bin:$PATH\n",
        "!export LD_LIBRARY_PATH=/usr/local/cuda/lib64:$LD_LIBRARY_PATH"
      ]
    },
    {
      "cell_type": "code",
      "execution_count": null,
      "metadata": {
        "id": "eb-N_jeXMjZ7"
      },
      "outputs": [],
      "source": [
        "\n",
        "\n",
        "#now open terminal then do\n",
        "# cd WePrompt\n",
        "# cd RavenApi\n",
        "# python RavenCollab.py\n"
      ]
    },
    {
      "cell_type": "code",
      "execution_count": null,
      "metadata": {
        "id": "r_PkqpLOBgl3"
      },
      "outputs": [],
      "source": [
        "#example\n",
        "\n",
        "#i have a project called tenders, it's a project that scrape informations from several websites about jobs, can i give you the structure of it and you help me inhance it and maybe correct some bugs ?\n",
        "\n",
        "\n",
        "\n",
        "#18/07/2023  13:43    <DIR>          .,18/07/2023  13:43    <DIR>          ..,18/07/2023  13:43    <DIR>          .idea,18/07/2023  13:43    <DIR>          chromedriver,18/07/2023  13:43        12 188 160 chromedriver.exe,18/07/2023  13:43             1 610 debug.log,18/07/2023  13:43             8 788 dgmarket_scraping.py,18/07/2023  13:43               230 dgmarket_scraping_logs.json,18/07/2023  13:43             4 062 dgmarket_scraping_results.json,18/07/2023  13:43    <DIR>          Documentation,18/07/2023  13:43    <DIR>          Modules,18/07/2023  13:43             1 358 parameters.yaml,18/07/2023  13:43    <DIR>          scrape,18/07/2023  13:43             1 827 Scraper.py,18/07/2023  13:43               266 scrapy.cfg,18/07/2023  13:43             8 623 tuneps_scraping.py,18/07/2023  13:43    <DIR>          __pycache__,               9 fichier(s)       12 214 924 octets,               8 Rép(s)  72 734 474 240 octets libres,"
      ]
    }
  ],
  "metadata": {
    "accelerator": "GPU",
    "colab": {
      "machine_shape": "hm",
      "provenance": []
    },
    "kernelspec": {
      "display_name": "Python 3",
      "name": "python3"
    },
    "language_info": {
      "name": "python"
    }
  },
  "nbformat": 4,
  "nbformat_minor": 0
}
